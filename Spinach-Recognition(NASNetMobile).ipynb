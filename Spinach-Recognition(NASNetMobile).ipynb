{
  "nbformat": 4,
  "nbformat_minor": 0,
  "metadata": {
    "colab": {
      "name": "Spinach Classification(NASNetMobile).ipynb",
      "provenance": [],
      "collapsed_sections": [],
      "mount_file_id": "1dPC06K68np4i1gFY9UdlG-tCFgckKULL",
      "authorship_tag": "ABX9TyMhCW1tIkJLI9JZW6pcIQ6i",
      "include_colab_link": true
    },
    "kernelspec": {
      "name": "python3",
      "display_name": "Python 3"
    },
    "accelerator": "GPU"
  },
  "cells": [
    {
      "cell_type": "markdown",
      "metadata": {
        "id": "view-in-github",
        "colab_type": "text"
      },
      "source": [
        "<a href=\"https://colab.research.google.com/github/islam-mirajul/Spinach-Recognition-Using-Convolutional-neural-networks/blob/main/Spinach-Recognition(NASNetMobile).ipynb\" target=\"_parent\"><img src=\"https://colab.research.google.com/assets/colab-badge.svg\" alt=\"Open In Colab\"/></a>"
      ]
    },
    {
      "cell_type": "code",
      "metadata": {
        "id": "USzoef_lN3LK",
        "colab": {
          "base_uri": "https://localhost:8080/",
          "height": 34
        },
        "outputId": "9152c734-8d19-42f0-8c98-5994f114e93d"
      },
      "source": [
        "import tensorflow as tf\n",
        "print(\"TF Version:\", tf.__version__)"
      ],
      "execution_count": null,
      "outputs": [
        {
          "output_type": "stream",
          "text": [
            "TF Version: 2.2.0\n"
          ],
          "name": "stdout"
        }
      ]
    },
    {
      "cell_type": "code",
      "metadata": {
        "id": "B-m0EZReOl5o",
        "colab": {
          "base_uri": "https://localhost:8080/",
          "height": 34
        },
        "outputId": "0f8b8e5f-9a49-4195-b349-310976f4942d"
      },
      "source": [
        "import tensorflow_hub as hub\n",
        "print(\"TF hub Version:\", hub.__version__)"
      ],
      "execution_count": null,
      "outputs": [
        {
          "output_type": "stream",
          "text": [
            "TF hub Version: 0.8.0\n"
          ],
          "name": "stdout"
        }
      ]
    },
    {
      "cell_type": "code",
      "metadata": {
        "id": "K01iVqXTOnfb",
        "colab": {
          "base_uri": "https://localhost:8080/",
          "height": 34
        },
        "outputId": "80b2563e-7cd5-4013-c8ad-c676a0c76d3d"
      },
      "source": [
        "print(\"GPU\", \"availabe\" if tf.config.list_physical_devices(\"GPU\") else \"not availabe\")"
      ],
      "execution_count": null,
      "outputs": [
        {
          "output_type": "stream",
          "text": [
            "GPU availabe\n"
          ],
          "name": "stdout"
        }
      ]
    },
    {
      "cell_type": "code",
      "metadata": {
        "id": "HLbOlss_OpK-"
      },
      "source": [
        "import warnings\n",
        "warnings.filterwarnings('always')\n",
        "warnings.filterwarnings('ignore')"
      ],
      "execution_count": null,
      "outputs": []
    },
    {
      "cell_type": "code",
      "metadata": {
        "id": "cGd_754ZOque",
        "colab": {
          "base_uri": "https://localhost:8080/",
          "height": 476
        },
        "outputId": "dd8ce7e1-2b38-4686-ce1d-20b25e5d00ec"
      },
      "source": [
        "\n",
        "from tensorflow.python.client import device_lib\n",
        "device_lib.list_local_devices()"
      ],
      "execution_count": null,
      "outputs": [
        {
          "output_type": "execute_result",
          "data": {
            "text/plain": [
              "[name: \"/device:CPU:0\"\n",
              " device_type: \"CPU\"\n",
              " memory_limit: 268435456\n",
              " locality {\n",
              " }\n",
              " incarnation: 15605857124230681523, name: \"/device:XLA_CPU:0\"\n",
              " device_type: \"XLA_CPU\"\n",
              " memory_limit: 17179869184\n",
              " locality {\n",
              " }\n",
              " incarnation: 17439439787994559524\n",
              " physical_device_desc: \"device: XLA_CPU device\", name: \"/device:XLA_GPU:0\"\n",
              " device_type: \"XLA_GPU\"\n",
              " memory_limit: 17179869184\n",
              " locality {\n",
              " }\n",
              " incarnation: 409812094914105202\n",
              " physical_device_desc: \"device: XLA_GPU device\", name: \"/device:GPU:0\"\n",
              " device_type: \"GPU\"\n",
              " memory_limit: 11150726272\n",
              " locality {\n",
              "   bus_id: 1\n",
              "   links {\n",
              "   }\n",
              " }\n",
              " incarnation: 6385561682095615558\n",
              " physical_device_desc: \"device: 0, name: Tesla K80, pci bus id: 0000:00:04.0, compute capability: 3.7\"]"
            ]
          },
          "metadata": {
            "tags": []
          },
          "execution_count": 20
        }
      ]
    },
    {
      "cell_type": "code",
      "metadata": {
        "id": "dGBfuJf5Os6_"
      },
      "source": [
        "import os\n",
        "import numpy as np\n",
        "np.random.seed(777)\n",
        "\n",
        "import keras\n",
        "import keras.backend as K\n",
        "from keras.preprocessing.image import ImageDataGenerator\n",
        "from keras.optimizers import Adam, SGD, RMSprop\n",
        "\n",
        "from keras.models import Model\n",
        "\n",
        "from keras.layers import Input, Activation, merge, Dense, Flatten, Dropout\n",
        "from keras.layers.convolutional import Convolution2D, MaxPooling2D\n",
        "from keras.layers import BatchNormalization, add, GlobalAveragePooling2D\n",
        "from keras.applications.nasnet import NASNetMobile\n",
        "\n",
        "from keras.utils import plot_model\n",
        "from keras.callbacks import EarlyStopping, ModelCheckpoint\n",
        "from keras.models import load_model\n",
        "\n",
        "from keras.utils import np_utils\n",
        "\n",
        "from keras.regularizers import l2\n",
        "\n",
        "import matplotlib.pyplot as plt\n",
        "%matplotlib inline\n",
        "\n",
        "plt.rcParams[\"axes.grid\"] = False\n",
        "plt.rcParams.update({'font.size': 20})"
      ],
      "execution_count": null,
      "outputs": []
    },
    {
      "cell_type": "code",
      "metadata": {
        "id": "S4BWWdDlOzN0"
      },
      "source": [
        "output_classes = 5\n",
        "batch_size = 64\n",
        "img_height, img_width = 224,224\n",
        "input_shape = (img_height, img_width, 3)\n",
        "epochs = 5\n",
        "nb_train_samples =2000\n",
        "nb_test_samples =500"
      ],
      "execution_count": null,
      "outputs": []
    },
    {
      "cell_type": "code",
      "metadata": {
        "id": "4CjbE7s_O4jl"
      },
      "source": [
        "train_dir = '/content/drive/My Drive/Spinach Classification/Train set'\n",
        "test_dir = '/content/drive/My Drive/Spinach Classification/Test set'"
      ],
      "execution_count": null,
      "outputs": []
    },
    {
      "cell_type": "code",
      "metadata": {
        "id": "EGfAowTPO7G_",
        "colab": {
          "base_uri": "https://localhost:8080/",
          "height": 238
        },
        "outputId": "dbdd2974-cb3c-4559-a083-0e304cd3559c"
      },
      "source": [
        "for root,dirs,files in os.walk(train_dir):\n",
        "    print (root, len(files))\n",
        "\n",
        "\n",
        "print(\"*\"*30)\n",
        "for root,dirs,files in os.walk(test_dir):\n",
        "    print (root, len(files))"
      ],
      "execution_count": null,
      "outputs": [
        {
          "output_type": "stream",
          "text": [
            "/content/drive/My Drive/Spinach Classification/Train set 0\n",
            "/content/drive/My Drive/Spinach Classification/Train set/Water Spinach 595\n",
            "/content/drive/My Drive/Spinach Classification/Train set/Malabar Spinach 606\n",
            "/content/drive/My Drive/Spinach Classification/Train set/Jute Spinach 600\n",
            "/content/drive/My Drive/Spinach Classification/Train set/Taro Spinach 618\n",
            "/content/drive/My Drive/Spinach Classification/Train set/Red Spinach 609\n",
            "******************************\n",
            "/content/drive/My Drive/Spinach Classification/Test set 0\n",
            "/content/drive/My Drive/Spinach Classification/Test set/Malabar Spinach 152\n",
            "/content/drive/My Drive/Spinach Classification/Test set/Red Spinach 152\n",
            "/content/drive/My Drive/Spinach Classification/Test set/Water Spinach 149\n",
            "/content/drive/My Drive/Spinach Classification/Test set/Jute Spinach 150\n",
            "/content/drive/My Drive/Spinach Classification/Test set/Taro Spinach 154\n"
          ],
          "name": "stdout"
        }
      ]
    },
    {
      "cell_type": "code",
      "metadata": {
        "id": "7lztxvunO81K",
        "colab": {
          "base_uri": "https://localhost:8080/",
          "height": 51
        },
        "outputId": "32ab0be8-6882-40a3-d0ee-89fef86d416b"
      },
      "source": [
        "random_seed = np.random.seed(1142)\n",
        "\n",
        "train_datagen = ImageDataGenerator(\n",
        "    rescale=1. / 255,\n",
        "    featurewise_center=True,\n",
        "    featurewise_std_normalization=True)\n",
        "\n",
        "train_generator = train_datagen.flow_from_directory(\n",
        "    train_dir,\n",
        "    target_size=(img_height, img_width),\n",
        "    batch_size=batch_size,\n",
        "    seed = random_seed,\n",
        "    shuffle = True,\n",
        "    class_mode='categorical')\n",
        "\n",
        "\n",
        "test_datagen = ImageDataGenerator(rescale=1. / 255)\n",
        "\n",
        "test_generator = test_datagen.flow_from_directory(\n",
        "    test_dir,\n",
        "    target_size=(img_height, img_width),\n",
        "    batch_size=batch_size,\n",
        "    seed = random_seed,\n",
        "    shuffle = False,\n",
        "    class_mode='categorical')"
      ],
      "execution_count": null,
      "outputs": [
        {
          "output_type": "stream",
          "text": [
            "Found 3028 images belonging to 5 classes.\n",
            "Found 757 images belonging to 5 classes.\n"
          ],
          "name": "stdout"
        }
      ]
    },
    {
      "cell_type": "code",
      "metadata": {
        "id": "X-_FYEZUPLJA"
      },
      "source": [
        "adam_opt = Adam(lr=1e-5, beta_1=0.9, beta_2=0.999, epsilon=1e-08, decay=1e-5)\n",
        "sgd_opt = SGD(lr=1e-06, momentum=0.0, decay=0.0, nesterov=False)\n",
        "rmsp_opt = RMSprop(lr=1e-4, decay=0.9)"
      ],
      "execution_count": null,
      "outputs": []
    },
    {
      "cell_type": "code",
      "metadata": {
        "id": "aXSya8R4PRYa",
        "colab": {
          "base_uri": "https://localhost:8080/",
          "height": 51
        },
        "outputId": "45c418e8-f661-4bff-b13d-22e2563a20f5"
      },
      "source": [
        "\n",
        "model = Sequential()\n",
        "\n",
        "\n",
        "model.add(NASNetMobile(weights = \"imagenet\", include_top=False, pooling = 'avg'))\n",
        "model.add(Dropout(rate=0.5))\n",
        "model.add(Dense(units=output_classes, activation='softmax'))\n",
        "\n",
        "model.layers[0].trainable = True"
      ],
      "execution_count": null,
      "outputs": [
        {
          "output_type": "stream",
          "text": [
            "Downloading data from https://github.com/titu1994/Keras-NASNet/releases/download/v1.2/NASNet-mobile-no-top.h5\n",
            "19996672/19993432 [==============================] - 0s 0us/step\n"
          ],
          "name": "stdout"
        }
      ]
    },
    {
      "cell_type": "code",
      "metadata": {
        "id": "FTSPSCTZPeld",
        "colab": {
          "base_uri": "https://localhost:8080/",
          "height": 255
        },
        "outputId": "d6dbaed4-2998-405e-fcdf-f25f9a3ca1cd"
      },
      "source": [
        "model.compile(optimizer= adam_opt,\n",
        "              loss = 'categorical_crossentropy',\n",
        "              metrics=['accuracy'])\n",
        "model.summary()"
      ],
      "execution_count": null,
      "outputs": [
        {
          "output_type": "stream",
          "text": [
            "Model: \"sequential_2\"\n",
            "_________________________________________________________________\n",
            "Layer (type)                 Output Shape              Param #   \n",
            "=================================================================\n",
            "NASNet (Model)               (None, 1056)              4269716   \n",
            "_________________________________________________________________\n",
            "dropout_2 (Dropout)          (None, 1056)              0         \n",
            "_________________________________________________________________\n",
            "dense_2 (Dense)              (None, 5)                 5285      \n",
            "=================================================================\n",
            "Total params: 4,275,001\n",
            "Trainable params: 4,238,263\n",
            "Non-trainable params: 36,738\n",
            "_________________________________________________________________\n"
          ],
          "name": "stdout"
        }
      ]
    },
    {
      "cell_type": "code",
      "metadata": {
        "id": "MEfZqmi1PjR2",
        "colab": {
          "base_uri": "https://localhost:8080/",
          "height": 187
        },
        "outputId": "5dd827fe-7081-4d16-9706-5d19921319d3"
      },
      "source": [
        "history = model.fit_generator(\n",
        "  train_generator,\n",
        "  steps_per_epoch = nb_train_samples // batch_size,\n",
        "  epochs = epochs,\n",
        "  validation_data = test_generator,\n",
        "  validation_steps = nb_test_samples // batch_size)"
      ],
      "execution_count": null,
      "outputs": [
        {
          "output_type": "stream",
          "text": [
            "Epoch 1/5\n",
            "31/31 [==============================] - 1646s 53s/step - loss: 1.8874 - accuracy: 0.2964 - val_loss: 1.0866 - val_accuracy: 0.4152\n",
            "Epoch 2/5\n",
            "31/31 [==============================] - 962s 31s/step - loss: 1.3568 - accuracy: 0.4793 - val_loss: 0.5927 - val_accuracy: 0.3959\n",
            "Epoch 3/5\n",
            "31/31 [==============================] - 371s 12s/step - loss: 0.9634 - accuracy: 0.6490 - val_loss: 1.1571 - val_accuracy: 0.3884\n",
            "Epoch 4/5\n",
            "31/31 [==============================] - 397s 13s/step - loss: 0.6958 - accuracy: 0.7974 - val_loss: 3.2773 - val_accuracy: 0.4073\n",
            "Epoch 5/5\n",
            "31/31 [==============================] - 341s 11s/step - loss: 0.5063 - accuracy: 0.8902 - val_loss: 1.4982 - val_accuracy: 0.5402\n"
          ],
          "name": "stdout"
        }
      ]
    },
    {
      "cell_type": "code",
      "metadata": {
        "id": "bNU3pdPEPra0",
        "colab": {
          "base_uri": "https://localhost:8080/",
          "height": 51
        },
        "outputId": "01643f3a-e7a3-4ca5-b590-0c9ad9d7ecda"
      },
      "source": [
        "score = model.evaluate_generator(test_generator, steps=5)\n",
        "\n",
        "print ('Validation Score: ', score[0])\n",
        "print ('Validation Accuracy: ',score[1])"
      ],
      "execution_count": null,
      "outputs": [
        {
          "output_type": "stream",
          "text": [
            "Validation Score:  2.40716552734375\n",
            "Validation Accuracy:  0.515625\n"
          ],
          "name": "stdout"
        }
      ]
    },
    {
      "cell_type": "code",
      "metadata": {
        "id": "sibuibEVPxX3",
        "colab": {
          "base_uri": "https://localhost:8080/",
          "height": 51
        },
        "outputId": "c0db9d78-a29e-4f12-c760-5a2d6921a7d5"
      },
      "source": [
        "filename = test_generator.filenames\n",
        "truth = test_generator.classes\n",
        "label = test_generator.class_indices\n",
        "indexlabel = dict((value, key) for key, value in label.items())\n",
        "\n",
        "predicts = model.predict_generator(test_generator, steps=test_generator.samples/test_generator.batch_size, verbose=1)\n",
        "predict_class = np.argmax(predicts, axis=1)\n",
        "errors = np.where(predict_class != truth)[0]\n",
        "print(\"No of errors = {}/{}\".format(len(errors),test_generator.samples))"
      ],
      "execution_count": null,
      "outputs": [
        {
          "output_type": "stream",
          "text": [
            "12/11 [==============================] - 126s 10s/step\n",
            "No of errors = 359/757\n"
          ],
          "name": "stdout"
        }
      ]
    },
    {
      "cell_type": "code",
      "metadata": {
        "id": "rt1AK06WPziu",
        "colab": {
          "base_uri": "https://localhost:8080/",
          "height": 829
        },
        "outputId": "9a3a3230-d46e-464c-a18f-398f8d235fcc"
      },
      "source": [
        "plt.rcParams[\"axes.grid\"] = False\n",
        "plt.rcParams.update({'font.size': 20})\n",
        "\n",
        "from sklearn.metrics import confusion_matrix\n",
        "cm = confusion_matrix(truth,predict_class)\n",
        "\n",
        "labels = []\n",
        "for k,v in indexlabel.items():\n",
        "    labels.append(v)\n",
        "    \n",
        "import itertools\n",
        "def plot_confusion_matrix(cm, classes,\n",
        "                          normalize=False,\n",
        "                          title='Confusion matrix',\n",
        "                          cmap=plt.cm.Blues):\n",
        "    accuracy = np.trace(cm) / float(np.sum(cm))\n",
        "    misclass = 1 - accuracy\n",
        "    if normalize:\n",
        "        cm = cm.astype('float') / cm.sum(axis=1)[:, np.newaxis]\n",
        "        print(\"Normalized confusion matrix\")\n",
        "    else:\n",
        "        print('Confusion Matrix')\n",
        "\n",
        "    print(cm)\n",
        "#     fig = plt.figure()\n",
        "    plt.imshow(cm, interpolation='nearest', cmap=cmap)\n",
        "    plt.title(title)\n",
        "    plt.colorbar()\n",
        "    tick_marks = np.arange(len(classes))\n",
        "    plt.xticks(tick_marks, classes, rotation=90)\n",
        "    plt.yticks(tick_marks, classes)\n",
        "    fmt = '.2f' if normalize else 'd'\n",
        "    thresh = cm.max() / 2.\n",
        "    for i, j in itertools.product(range(cm.shape[0]), range(cm.shape[1])):\n",
        "        plt.text(j, i, format(cm[i, j], fmt),\n",
        "                 horizontalalignment=\"center\",\n",
        "                 color=\"white\" if cm[i, j] > thresh else \"black\")\n",
        "\n",
        "    plt.tight_layout()\n",
        "    plt.ylabel('True label')\n",
        "    plt.xlabel('Predicted label\\naccuracy={:0.4f}; misclass={:0.4f}'.format(accuracy, misclass))\n",
        "    ##plt.savefig('plots/12.DenseNet-DataSet-CM.png', bbox_inches='tight', dpi = 100) \n",
        "plt.figure(figsize=(10,10))\n",
        "\n",
        "\n",
        "plot_confusion_matrix(cm, classes=labels,\n",
        "                      title='Confusion Matrix')"
      ],
      "execution_count": null,
      "outputs": [
        {
          "output_type": "stream",
          "text": [
            "Confusion Matrix\n",
            "[[150   0   0   0   0]\n",
            " [ 18   0 130   4   0]\n",
            " [ 29   0 123   0   0]\n",
            " [  6   0  49  99   0]\n",
            " [103   0  18   2  26]]\n"
          ],
          "name": "stdout"
        },
        {
          "output_type": "display_data",
          "data": {
            "image/png": "[encoded data removed]",
            "text/plain": [
              "<Figure size 720x720 with 2 Axes>"
            ]
          },
          "metadata": {
            "tags": [],
            "needs_background": "light"
          }
        }
      ]
    },
    {
      "cell_type": "code",
      "metadata": {
        "id": "ifV_D0gXP4UO",
        "colab": {
          "base_uri": "https://localhost:8080/",
          "height": 306
        },
        "outputId": "05c34e78-88c1-4e35-fec1-aeda2347980d"
      },
      "source": [
        "from sklearn.preprocessing import LabelEncoder\n",
        "from sklearn.metrics import confusion_matrix, classification_report\n",
        "y_pred = predicts\n",
        "y_pred_probabilities=y_pred\n",
        "\n",
        "y_pred = np.argmax(y_pred,axis = 1) \n",
        "y_actual = test_generator.classes\n",
        "\n",
        "classnames=[]\n",
        "for classname in test_generator.class_indices:\n",
        "    classnames.append(classname)\n",
        "\n",
        "confusion_mtx = confusion_matrix(y_actual, y_pred) \n",
        "print(confusion_mtx)\n",
        "target_names = classnames\n",
        "print(classification_report(y_actual, y_pred, target_names=target_names))"
      ],
      "execution_count": null,
      "outputs": [
        {
          "output_type": "stream",
          "text": [
            "[[150   0   0   0   0]\n",
            " [ 18   0 130   4   0]\n",
            " [ 29   0 123   0   0]\n",
            " [  6   0  49  99   0]\n",
            " [103   0  18   2  26]]\n",
            "                 precision    recall  f1-score   support\n",
            "\n",
            "   Jute Spinach       0.49      1.00      0.66       150\n",
            "Malabar Spinach       0.00      0.00      0.00       152\n",
            "    Red Spinach       0.38      0.81      0.52       152\n",
            "   Taro Spinach       0.94      0.64      0.76       154\n",
            "  Water Spinach       1.00      0.17      0.30       149\n",
            "\n",
            "       accuracy                           0.53       757\n",
            "      macro avg       0.56      0.53      0.45       757\n",
            "   weighted avg       0.56      0.53      0.45       757\n",
            "\n"
          ],
          "name": "stdout"
        }
      ]
    },
    {
      "cell_type": "code",
      "metadata": {
        "id": "CrGJdD1igjzh"
      },
      "source": [
        "model.save('/content/drive/My Drive/Spinach model/NASNetMobile-spinach-model.h5')\n",
        "model.save_weights('/content/drive/My Drive/Spinach model/NASNetMobile-spinach-Weights.h5')"
      ],
      "execution_count": null,
      "outputs": []
    }
  ]
}